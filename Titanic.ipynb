{
 "cells": [
  {
   "cell_type": "markdown",
   "id": "980abb28",
   "metadata": {},
   "source": [
    "Part 0: Imports"
   ]
  },
  {
   "cell_type": "markdown",
   "id": "1c934059",
   "metadata": {},
   "source": [
    "Part 1: Visualize, break up data"
   ]
  },
  {
   "cell_type": "markdown",
   "id": "ea026bbb",
   "metadata": {},
   "source": [
    "Part 2: Feature Engineer"
   ]
  },
  {
   "cell_type": "markdown",
   "id": "e76f0aad",
   "metadata": {},
   "source": [
    "Part 2.5: Scaling Data"
   ]
  },
  {
   "cell_type": "markdown",
   "id": "486811d9",
   "metadata": {},
   "source": [
    "Part 3: Modeling"
   ]
  },
  {
   "cell_type": "markdown",
   "id": "14fccd27",
   "metadata": {},
   "source": [
    "# ----- Importing -----"
   ]
  },
  {
   "cell_type": "code",
   "execution_count": 1,
   "id": "0d57f6e6",
   "metadata": {},
   "outputs": [],
   "source": [
    "import pandas as pd\n",
    "import numpy as np\n",
    "import matplotlib.pyplot as plt\n",
    "import statsmodels as sm\n",
    "import seaborn as sns\n",
    "from sklearn.preprocessing import StandardScaler \n",
    "from scipy import stats\n",
    "\n",
    "from sklearn.model_selection import cross_val_score\n",
    "from sklearn.naive_bayes import GaussianNB\n",
    "from sklearn.linear_model import LogisticRegression\n",
    "from sklearn import tree\n",
    "from sklearn.neighbors import KNeighborsClassifier\n",
    "from sklearn.ensemble import RandomForestClassifier\n",
    "from sklearn.svm import SVC\n",
    "from xgboost import XGBClassifier\n",
    "from sklearn.ensemble import VotingClassifier\n",
    "\n",
    "\n",
    "train = pd.read_csv ('C:/Users/mitch_ue52/Documents/Kaggle/Titanic/train.csv')\n",
    "test = pd.read_csv ('C:/Users/mitch_ue52/Documents/Kaggle/Titanic/test.csv')"
   ]
  },
  {
   "cell_type": "markdown",
   "id": "e7b6db0f",
   "metadata": {},
   "source": [
    "# ----- Visualizing and Breaking up Data -----"
   ]
  },
  {
   "cell_type": "code",
   "execution_count": 2,
   "id": "690df190-ddac-4d63-a2e5-b018b5c33bd6",
   "metadata": {},
   "outputs": [
    {
     "data": {
      "text/html": [
       "<div>\n",
       "<style scoped>\n",
       "    .dataframe tbody tr th:only-of-type {\n",
       "        vertical-align: middle;\n",
       "    }\n",
       "\n",
       "    .dataframe tbody tr th {\n",
       "        vertical-align: top;\n",
       "    }\n",
       "\n",
       "    .dataframe thead th {\n",
       "        text-align: right;\n",
       "    }\n",
       "</style>\n",
       "<table border=\"1\" class=\"dataframe\">\n",
       "  <thead>\n",
       "    <tr style=\"text-align: right;\">\n",
       "      <th></th>\n",
       "      <th>PassengerId</th>\n",
       "      <th>Survived</th>\n",
       "      <th>Pclass</th>\n",
       "      <th>Age</th>\n",
       "      <th>SibSp</th>\n",
       "      <th>Parch</th>\n",
       "      <th>Fare</th>\n",
       "    </tr>\n",
       "  </thead>\n",
       "  <tbody>\n",
       "    <tr>\n",
       "      <th>count</th>\n",
       "      <td>891.000000</td>\n",
       "      <td>891.000000</td>\n",
       "      <td>891.000000</td>\n",
       "      <td>714.000000</td>\n",
       "      <td>891.000000</td>\n",
       "      <td>891.000000</td>\n",
       "      <td>891.000000</td>\n",
       "    </tr>\n",
       "    <tr>\n",
       "      <th>mean</th>\n",
       "      <td>446.000000</td>\n",
       "      <td>0.383838</td>\n",
       "      <td>2.308642</td>\n",
       "      <td>29.699118</td>\n",
       "      <td>0.523008</td>\n",
       "      <td>0.381594</td>\n",
       "      <td>32.204208</td>\n",
       "    </tr>\n",
       "    <tr>\n",
       "      <th>std</th>\n",
       "      <td>257.353842</td>\n",
       "      <td>0.486592</td>\n",
       "      <td>0.836071</td>\n",
       "      <td>14.526497</td>\n",
       "      <td>1.102743</td>\n",
       "      <td>0.806057</td>\n",
       "      <td>49.693429</td>\n",
       "    </tr>\n",
       "    <tr>\n",
       "      <th>min</th>\n",
       "      <td>1.000000</td>\n",
       "      <td>0.000000</td>\n",
       "      <td>1.000000</td>\n",
       "      <td>0.420000</td>\n",
       "      <td>0.000000</td>\n",
       "      <td>0.000000</td>\n",
       "      <td>0.000000</td>\n",
       "    </tr>\n",
       "    <tr>\n",
       "      <th>25%</th>\n",
       "      <td>223.500000</td>\n",
       "      <td>0.000000</td>\n",
       "      <td>2.000000</td>\n",
       "      <td>20.125000</td>\n",
       "      <td>0.000000</td>\n",
       "      <td>0.000000</td>\n",
       "      <td>7.910400</td>\n",
       "    </tr>\n",
       "    <tr>\n",
       "      <th>50%</th>\n",
       "      <td>446.000000</td>\n",
       "      <td>0.000000</td>\n",
       "      <td>3.000000</td>\n",
       "      <td>28.000000</td>\n",
       "      <td>0.000000</td>\n",
       "      <td>0.000000</td>\n",
       "      <td>14.454200</td>\n",
       "    </tr>\n",
       "    <tr>\n",
       "      <th>75%</th>\n",
       "      <td>668.500000</td>\n",
       "      <td>1.000000</td>\n",
       "      <td>3.000000</td>\n",
       "      <td>38.000000</td>\n",
       "      <td>1.000000</td>\n",
       "      <td>0.000000</td>\n",
       "      <td>31.000000</td>\n",
       "    </tr>\n",
       "    <tr>\n",
       "      <th>max</th>\n",
       "      <td>891.000000</td>\n",
       "      <td>1.000000</td>\n",
       "      <td>3.000000</td>\n",
       "      <td>80.000000</td>\n",
       "      <td>8.000000</td>\n",
       "      <td>6.000000</td>\n",
       "      <td>512.329200</td>\n",
       "    </tr>\n",
       "  </tbody>\n",
       "</table>\n",
       "</div>"
      ],
      "text/plain": [
       "       PassengerId    Survived      Pclass         Age       SibSp  \\\n",
       "count   891.000000  891.000000  891.000000  714.000000  891.000000   \n",
       "mean    446.000000    0.383838    2.308642   29.699118    0.523008   \n",
       "std     257.353842    0.486592    0.836071   14.526497    1.102743   \n",
       "min       1.000000    0.000000    1.000000    0.420000    0.000000   \n",
       "25%     223.500000    0.000000    2.000000   20.125000    0.000000   \n",
       "50%     446.000000    0.000000    3.000000   28.000000    0.000000   \n",
       "75%     668.500000    1.000000    3.000000   38.000000    1.000000   \n",
       "max     891.000000    1.000000    3.000000   80.000000    8.000000   \n",
       "\n",
       "            Parch        Fare  \n",
       "count  891.000000  891.000000  \n",
       "mean     0.381594   32.204208  \n",
       "std      0.806057   49.693429  \n",
       "min      0.000000    0.000000  \n",
       "25%      0.000000    7.910400  \n",
       "50%      0.000000   14.454200  \n",
       "75%      0.000000   31.000000  \n",
       "max      6.000000  512.329200  "
      ]
     },
     "execution_count": 2,
     "metadata": {},
     "output_type": "execute_result"
    }
   ],
   "source": [
    "train.describe()"
   ]
  },
  {
   "cell_type": "code",
   "execution_count": 3,
   "id": "1b185ad1",
   "metadata": {
    "scrolled": true
   },
   "outputs": [],
   "source": [
    "df_num = train[['Age', 'SibSp', 'Parch', 'Fare']]"
   ]
  },
  {
   "cell_type": "code",
   "execution_count": 4,
   "id": "97affb4f",
   "metadata": {},
   "outputs": [],
   "source": [
    "df_cat = train[['Sex', 'Embarked', 'Cabin', 'Pclass']]"
   ]
  },
  {
   "cell_type": "code",
   "execution_count": 5,
   "id": "eae00d5b",
   "metadata": {},
   "outputs": [
    {
     "data": {
      "image/png": "[encoded data removed]",
      "text/plain": [
       "<Figure size 432x288 with 1 Axes>"
      ]
     },
     "metadata": {
      "needs_background": "light"
     },
     "output_type": "display_data"
    },
    {
     "data": {
      "image/png": "[encoded data removed]",
      "text/plain": [
       "<Figure size 432x288 with 1 Axes>"
      ]
     },
     "metadata": {
      "needs_background": "light"
     },
     "output_type": "display_data"
    },
    {
     "data": {
      "image/png": "[encoded data removed]",
      "text/plain": [
       "<Figure size 432x288 with 1 Axes>"
      ]
     },
     "metadata": {
      "needs_background": "light"
     },
     "output_type": "display_data"
    },
    {
     "data": {
      "image/png": "[encoded data removed]",
      "text/plain": [
       "<Figure size 432x288 with 1 Axes>"
      ]
     },
     "metadata": {
      "needs_background": "light"
     },
     "output_type": "display_data"
    }
   ],
   "source": [
    "for x in df_num.columns:\n",
    "    plt.hist(df_num[x])\n",
    "    plt.title(x)\n",
    "    plt.show()"
   ]
  },
  {
   "cell_type": "code",
   "execution_count": 6,
   "id": "c2805db0",
   "metadata": {},
   "outputs": [
    {
     "name": "stdout",
     "output_type": "stream",
     "text": [
      "            Age     SibSp     Parch      Fare\n",
      "Age    1.000000 -0.308247 -0.189119  0.096067\n",
      "SibSp -0.308247  1.000000  0.414838  0.159651\n",
      "Parch -0.189119  0.414838  1.000000  0.216225\n",
      "Fare   0.096067  0.159651  0.216225  1.000000\n"
     ]
    }
   ],
   "source": [
    "print(df_num.corr())"
   ]
  },
  {
   "cell_type": "code",
   "execution_count": 7,
   "id": "546030ba",
   "metadata": {
    "scrolled": true
   },
   "outputs": [
    {
     "name": "stdout",
     "output_type": "stream",
     "text": [
      "           Age      Fare\n",
      "Age   1.000000  0.096067\n",
      "Fare  0.096067  1.000000\n"
     ]
    }
   ],
   "source": [
    "print(df_num.drop(['SibSp', 'Parch'], axis=1).corr())"
   ]
  },
  {
   "cell_type": "code",
   "execution_count": 8,
   "id": "3ee02ca8",
   "metadata": {},
   "outputs": [
    {
     "data": {
      "image/png": "[encoded data removed]",
      "text/plain": [
       "<Figure size 432x288 with 1 Axes>"
      ]
     },
     "metadata": {
      "needs_background": "light"
     },
     "output_type": "display_data"
    },
    {
     "data": {
      "image/png": "[encoded data removed]",
      "text/plain": [
       "<Figure size 432x288 with 1 Axes>"
      ]
     },
     "metadata": {
      "needs_background": "light"
     },
     "output_type": "display_data"
    },
    {
     "data": {
      "image/png": "[encoded data removed]",
      "text/plain": [
       "<Figure size 432x288 with 1 Axes>"
      ]
     },
     "metadata": {
      "needs_background": "light"
     },
     "output_type": "display_data"
    },
    {
     "data": {
      "image/png": "[encoded data removed]",
      "text/plain": [
       "<Figure size 432x288 with 1 Axes>"
      ]
     },
     "metadata": {
      "needs_background": "light"
     },
     "output_type": "display_data"
    }
   ],
   "source": [
    "for i in df_cat.columns:\n",
    "    x = df_cat[i].value_counts().index\n",
    "    y = df_cat[i].value_counts()\n",
    "    sns.barplot(x=x, y=y)\n",
    "    plt.show()"
   ]
  },
  {
   "cell_type": "code",
   "execution_count": 9,
   "id": "13829376",
   "metadata": {},
   "outputs": [
    {
     "data": {
      "text/plain": [
       "count             204\n",
       "unique            147\n",
       "top       C23 C25 C27\n",
       "freq                4\n",
       "Name: Cabin, dtype: object"
      ]
     },
     "execution_count": 9,
     "metadata": {},
     "output_type": "execute_result"
    }
   ],
   "source": [
    "df_cat['Cabin'].describe()"
   ]
  },
  {
   "cell_type": "code",
   "execution_count": 10,
   "id": "77b20215",
   "metadata": {},
   "outputs": [
    {
     "name": "stdout",
     "output_type": "stream",
     "text": [
      "\u001b[1mAge\u001b[0m\n",
      "24.00    30\n",
      "22.00    27\n",
      "18.00    26\n",
      "28.00    25\n",
      "19.00    25\n",
      "         ..\n",
      "55.50     1\n",
      "74.00     1\n",
      "0.92      1\n",
      "70.50     1\n",
      "12.00     1\n",
      "Name: Age, Length: 88, dtype: int64\n",
      "\n",
      " ---------------------------------------------------------------------\n",
      "\u001b[1mSibSp\u001b[0m\n",
      "0    608\n",
      "1    209\n",
      "2     28\n",
      "4     18\n",
      "3     16\n",
      "8      7\n",
      "5      5\n",
      "Name: SibSp, dtype: int64\n",
      "\n",
      " ---------------------------------------------------------------------\n",
      "\u001b[1mParch\u001b[0m\n",
      "0    678\n",
      "1    118\n",
      "2     80\n",
      "3      5\n",
      "5      5\n",
      "4      4\n",
      "6      1\n",
      "Name: Parch, dtype: int64\n",
      "\n",
      " ---------------------------------------------------------------------\n",
      "\u001b[1mFare\u001b[0m\n",
      "8.0500     43\n",
      "13.0000    42\n",
      "7.8958     38\n",
      "7.7500     34\n",
      "26.0000    31\n",
      "           ..\n",
      "50.4958     1\n",
      "13.8583     1\n",
      "8.4583      1\n",
      "7.7250      1\n",
      "7.5208      1\n",
      "Name: Fare, Length: 248, dtype: int64\n",
      "\n",
      " ---------------------------------------------------------------------\n",
      "\u001b[1mSex\u001b[0m\n",
      "male      577\n",
      "female    314\n",
      "Name: Sex, dtype: int64\n",
      "\n",
      " ---------------------------------------------------------------------\n",
      "\u001b[1mEmbarked\u001b[0m\n",
      "S    644\n",
      "C    168\n",
      "Q     77\n",
      "Name: Embarked, dtype: int64\n",
      "\n",
      " ---------------------------------------------------------------------\n",
      "\u001b[1mCabin\u001b[0m\n",
      "C23 C25 C27    4\n",
      "G6             4\n",
      "B96 B98        4\n",
      "E101           3\n",
      "F2             3\n",
      "              ..\n",
      "E46            1\n",
      "B73            1\n",
      "C30            1\n",
      "D28            1\n",
      "B102           1\n",
      "Name: Cabin, Length: 147, dtype: int64\n",
      "\n",
      " ---------------------------------------------------------------------\n",
      "\u001b[1mPclass\u001b[0m\n",
      "3    491\n",
      "1    216\n",
      "2    184\n",
      "Name: Pclass, dtype: int64\n",
      "\n",
      " ---------------------------------------------------------------------\n"
     ]
    }
   ],
   "source": [
    "for column in df_num:\n",
    "    print('\\033[1m' + column + '\\033[0m')\n",
    "    print(df_num[column].value_counts())\n",
    "    print('\\n ---------------------------------------------------------------------')\n",
    "    \n",
    "for column in df_cat:\n",
    "    print('\\033[1m' + column + '\\033[0m')\n",
    "    print(df_cat[column].value_counts())\n",
    "    print('\\n ---------------------------------------------------------------------')"
   ]
  },
  {
   "cell_type": "code",
   "execution_count": 11,
   "id": "e1226d02",
   "metadata": {},
   "outputs": [
    {
     "name": "stdout",
     "output_type": "stream",
     "text": [
      "Statistics=0.981, p=0.000\n",
      "Sample does not look Gaussian\n"
     ]
    }
   ],
   "source": [
    "import math\n",
    "\n",
    "\n",
    "age_column = train.loc[:,'Age']\n",
    "ages = [x for x in age_column.values if math.isnan(x) == False]\n",
    "\n",
    "stat, p = stats.shapiro(ages)\n",
    "print('Statistics=%.3f, p=%.3f' % (stat, p))\n",
    "\n",
    "alpha = 0.05\n",
    "if p > alpha:\n",
    "\tprint('Sample looks Gaussian')\n",
    "else:\n",
    "\tprint('Sample does not look Gaussian')\n"
   ]
  },
  {
   "cell_type": "markdown",
   "id": "0369154a",
   "metadata": {},
   "source": [
    "# ----- FEATURE ENGINEERING -----"
   ]
  },
  {
   "cell_type": "code",
   "execution_count": 12,
   "id": "d84af0c1-ef61-4a65-8d0d-18055ee76d71",
   "metadata": {},
   "outputs": [],
   "source": [
    "def fe_data(df):\n",
    "    print('start feature engineering')\n",
    "    \n",
    "    \n",
    "    df['Family'] =df['SibSp'] + df['Parch']\n",
    "    df.drop(columns = ['SibSp', 'Parch'], inplace = True)\n",
    "    df['Sex'].replace('male', 0, inplace=True)\n",
    "    df['Sex'].replace('female', 1, inplace=True)\n",
    "    df.dropna(subset = ['Embarked'], inplace=True)\n",
    "    df = pd.get_dummies(df, columns = ['Embarked'], prefix = ['Emb'])\n",
    "    df = pd.get_dummies(df, columns = ['Pclass'], prefix = ['Class'])\n",
    "    df.drop(columns=['Cabin', 'Ticket', 'Name'], inplace=True)\n",
    "   \n",
    "    df['Age'] = df['Age'].fillna(df['Age'].median())\n",
    "    df['Fare'] = df['Fare'].fillna(df['Fare'].median())\n",
    "\n",
    "    \n",
    "    print('finished feature engineering')\n",
    "    \n",
    "    return df"
   ]
  },
  {
   "cell_type": "code",
   "execution_count": 13,
   "id": "f3cf45ed",
   "metadata": {},
   "outputs": [
    {
     "data": {
      "text/html": [
       "<div>\n",
       "<style scoped>\n",
       "    .dataframe tbody tr th:only-of-type {\n",
       "        vertical-align: middle;\n",
       "    }\n",
       "\n",
       "    .dataframe tbody tr th {\n",
       "        vertical-align: top;\n",
       "    }\n",
       "\n",
       "    .dataframe thead th {\n",
       "        text-align: right;\n",
       "    }\n",
       "</style>\n",
       "<table border=\"1\" class=\"dataframe\">\n",
       "  <thead>\n",
       "    <tr style=\"text-align: right;\">\n",
       "      <th></th>\n",
       "      <th>PassengerId</th>\n",
       "      <th>Survived</th>\n",
       "      <th>Pclass</th>\n",
       "      <th>Age</th>\n",
       "      <th>SibSp</th>\n",
       "      <th>Parch</th>\n",
       "      <th>Fare</th>\n",
       "    </tr>\n",
       "  </thead>\n",
       "  <tbody>\n",
       "    <tr>\n",
       "      <th>count</th>\n",
       "      <td>891.000000</td>\n",
       "      <td>891.000000</td>\n",
       "      <td>891.000000</td>\n",
       "      <td>714.000000</td>\n",
       "      <td>891.000000</td>\n",
       "      <td>891.000000</td>\n",
       "      <td>891.000000</td>\n",
       "    </tr>\n",
       "    <tr>\n",
       "      <th>mean</th>\n",
       "      <td>446.000000</td>\n",
       "      <td>0.383838</td>\n",
       "      <td>2.308642</td>\n",
       "      <td>29.699118</td>\n",
       "      <td>0.523008</td>\n",
       "      <td>0.381594</td>\n",
       "      <td>32.204208</td>\n",
       "    </tr>\n",
       "    <tr>\n",
       "      <th>std</th>\n",
       "      <td>257.353842</td>\n",
       "      <td>0.486592</td>\n",
       "      <td>0.836071</td>\n",
       "      <td>14.526497</td>\n",
       "      <td>1.102743</td>\n",
       "      <td>0.806057</td>\n",
       "      <td>49.693429</td>\n",
       "    </tr>\n",
       "    <tr>\n",
       "      <th>min</th>\n",
       "      <td>1.000000</td>\n",
       "      <td>0.000000</td>\n",
       "      <td>1.000000</td>\n",
       "      <td>0.420000</td>\n",
       "      <td>0.000000</td>\n",
       "      <td>0.000000</td>\n",
       "      <td>0.000000</td>\n",
       "    </tr>\n",
       "    <tr>\n",
       "      <th>25%</th>\n",
       "      <td>223.500000</td>\n",
       "      <td>0.000000</td>\n",
       "      <td>2.000000</td>\n",
       "      <td>20.125000</td>\n",
       "      <td>0.000000</td>\n",
       "      <td>0.000000</td>\n",
       "      <td>7.910400</td>\n",
       "    </tr>\n",
       "    <tr>\n",
       "      <th>50%</th>\n",
       "      <td>446.000000</td>\n",
       "      <td>0.000000</td>\n",
       "      <td>3.000000</td>\n",
       "      <td>28.000000</td>\n",
       "      <td>0.000000</td>\n",
       "      <td>0.000000</td>\n",
       "      <td>14.454200</td>\n",
       "    </tr>\n",
       "    <tr>\n",
       "      <th>75%</th>\n",
       "      <td>668.500000</td>\n",
       "      <td>1.000000</td>\n",
       "      <td>3.000000</td>\n",
       "      <td>38.000000</td>\n",
       "      <td>1.000000</td>\n",
       "      <td>0.000000</td>\n",
       "      <td>31.000000</td>\n",
       "    </tr>\n",
       "    <tr>\n",
       "      <th>max</th>\n",
       "      <td>891.000000</td>\n",
       "      <td>1.000000</td>\n",
       "      <td>3.000000</td>\n",
       "      <td>80.000000</td>\n",
       "      <td>8.000000</td>\n",
       "      <td>6.000000</td>\n",
       "      <td>512.329200</td>\n",
       "    </tr>\n",
       "  </tbody>\n",
       "</table>\n",
       "</div>"
      ],
      "text/plain": [
       "       PassengerId    Survived      Pclass         Age       SibSp  \\\n",
       "count   891.000000  891.000000  891.000000  714.000000  891.000000   \n",
       "mean    446.000000    0.383838    2.308642   29.699118    0.523008   \n",
       "std     257.353842    0.486592    0.836071   14.526497    1.102743   \n",
       "min       1.000000    0.000000    1.000000    0.420000    0.000000   \n",
       "25%     223.500000    0.000000    2.000000   20.125000    0.000000   \n",
       "50%     446.000000    0.000000    3.000000   28.000000    0.000000   \n",
       "75%     668.500000    1.000000    3.000000   38.000000    1.000000   \n",
       "max     891.000000    1.000000    3.000000   80.000000    8.000000   \n",
       "\n",
       "            Parch        Fare  \n",
       "count  891.000000  891.000000  \n",
       "mean     0.381594   32.204208  \n",
       "std      0.806057   49.693429  \n",
       "min      0.000000    0.000000  \n",
       "25%      0.000000    7.910400  \n",
       "50%      0.000000   14.454200  \n",
       "75%      0.000000   31.000000  \n",
       "max      6.000000  512.329200  "
      ]
     },
     "execution_count": 13,
     "metadata": {},
     "output_type": "execute_result"
    }
   ],
   "source": [
    "train.describe()"
   ]
  },
  {
   "cell_type": "markdown",
   "id": "07c58591",
   "metadata": {},
   "source": [
    "# ----- Scaling Data -----"
   ]
  },
  {
   "cell_type": "code",
   "execution_count": 14,
   "id": "95fbbbf5",
   "metadata": {},
   "outputs": [],
   "source": [
    "def scale_data(df):\n",
    "    scale = StandardScaler()\n",
    "    x_train = train.copy()\n",
    "    x_train[['Fare', 'Age']] = scale.fit_transform(x_train[['Fare', 'Age']])\n",
    "    x_train.drop(columns = 'Survived', inplace = True)\n",
    "    return df"
   ]
  },
  {
   "cell_type": "markdown",
   "id": "73b1643b",
   "metadata": {},
   "source": [
    "# ----- Modeling -----\n"
   ]
  },
  {
   "cell_type": "code",
   "execution_count": 15,
   "id": "57b804a9",
   "metadata": {},
   "outputs": [
    {
     "name": "stdout",
     "output_type": "stream",
     "text": [
      "start feature engineering\n",
      "finished feature engineering\n",
      "start feature engineering\n",
      "finished feature engineering\n",
      "\u001b[1m GaussianNB() \u001b[0m\n",
      "[0.64606742 0.73595506 0.79775281 0.81460674 0.81355932] \n",
      "\n",
      "0.762\n",
      "---------------------------------------- \n",
      "\n",
      "\n",
      "\u001b[1m LogisticRegression(max_iter=1000) \u001b[0m\n",
      "[0.78089888 0.80337079 0.78651685 0.78089888 0.81920904] \n",
      "\n",
      "0.794\n",
      "---------------------------------------- \n",
      "\n",
      "\n",
      "\u001b[1m DecisionTreeClassifier(random_state=0) \u001b[0m\n",
      "[0.60674157 0.76404494 0.79213483 0.7752809  0.81355932] \n",
      "\n",
      "0.75\n",
      "---------------------------------------- \n",
      "\n",
      "\n",
      "\u001b[1m RandomForestClassifier(random_state=0) \u001b[0m\n",
      "[0.73595506 0.79775281 0.84831461 0.82022472 0.84180791] \n",
      "\n",
      "0.809\n",
      "---------------------------------------- \n",
      "\n",
      "\n",
      "\u001b[1m KNeighborsClassifier() \u001b[0m\n",
      "[0.62359551 0.44382022 0.47752809 0.47752809 0.68361582] \n",
      "\n",
      "0.541\n",
      "---------------------------------------- \n",
      "\n",
      "\n",
      "\u001b[1m SVC(probability=True) \u001b[0m\n",
      "[0.61797753 0.64044944 0.64606742 0.64044944 0.65536723] \n",
      "\n",
      "0.64\n",
      "---------------------------------------- \n",
      "\n",
      "\n"
     ]
    }
   ],
   "source": [
    "gnb = GaussianNB()\n",
    "lr = LogisticRegression(max_iter=1000)\n",
    "dt = tree.DecisionTreeClassifier(random_state=0)\n",
    "rf = RandomForestClassifier(random_state=0)\n",
    "kn = KNeighborsClassifier()\n",
    "svc = SVC(probability=True)\n",
    "\n",
    "train = fe_data(train)\n",
    "train = scale_data(train)\n",
    "\n",
    "x_train = train.drop(columns='Survived', inplace = False)\n",
    "y_train = train['Survived'].copy()\n",
    "\n",
    "\n",
    "x_test = fe_data(test)\n",
    "x_test = scale_data(x_test)\n",
    "\n",
    "Models = [gnb, lr, dt, rf, kn, svc]\n",
    "\n",
    "for model in Models:\n",
    "    cv = cross_val_score(model, x_train, y_train, cv=5)\n",
    "    print('\\033[1m',model, '\\033[0m')\n",
    "    print(cv, '\\n')\n",
    "    print(round(cv.mean(), 3))\n",
    "    print('----------------------------------------', '\\n\\n')\n",
    "\n"
   ]
  },
  {
   "cell_type": "code",
   "execution_count": 16,
   "id": "8d4f879a",
   "metadata": {},
   "outputs": [
    {
     "name": "stdout",
     "output_type": "stream",
     "text": [
      "[0.65168539 0.76966292 0.84831461 0.78089888 0.84180791]\n",
      "0.7784739414714658\n",
      "[0.62359551 0.79775281 0.82022472 0.80337079 0.81920904]\n",
      "0.7728305719545483\n"
     ]
    }
   ],
   "source": [
    "vc_soft = VotingClassifier(estimators = [('gnb', gnb), ('lr', lr), ('dt', dt), ('rf', rf), ('kn', kn), ('svc', svc)], voting= 'soft')\n",
    "vc_hard = VotingClassifier(estimators = [('gnb', gnb), ('lr', lr), ('dt', dt), ('rf', rf), ('kn', kn), ('svc', svc)], voting= 'hard')\n",
    "\n",
    "cv1 = cross_val_score(vc_soft, x_train, y_train, cv=5)\n",
    "cv2 = cross_val_score(vc_hard, x_train, y_train, cv=5)\n",
    "\n",
    "print(cv1)\n",
    "print(cv1.mean())\n",
    "\n",
    "print(cv2)\n",
    "print(cv2.mean())"
   ]
  },
  {
   "cell_type": "code",
   "execution_count": 17,
   "id": "b5de9e67",
   "metadata": {},
   "outputs": [],
   "source": [
    "vc_hard = vc_hard.fit(x_train, y_train)\n",
    "\n",
    "y_hat = vc_hard.predict(x_test).astype(int)\n",
    "\n",
    "final_data = {'PassengerId': x_test.PassengerId, 'Survived': y_hat}\n",
    "submission = pd.DataFrame(data = final_data)\n",
    "submission.to_csv('submisson_MT.csv', index =False)"
   ]
  },
  {
   "cell_type": "code",
   "execution_count": null,
   "id": "75bc800a",
   "metadata": {},
   "outputs": [],
   "source": []
  }
 ],
 "metadata": {
  "kernelspec": {
   "display_name": "Python 3",
   "language": "python",
   "name": "python3"
  },
  "language_info": {
   "codemirror_mode": {
    "name": "ipython",
    "version": 3
   },
   "file_extension": ".py",
   "mimetype": "text/x-python",
   "name": "python",
   "nbconvert_exporter": "python",
   "pygments_lexer": "ipython3",
   "version": "3.9.1"
  }
 },
 "nbformat": 4,
 "nbformat_minor": 5
}
